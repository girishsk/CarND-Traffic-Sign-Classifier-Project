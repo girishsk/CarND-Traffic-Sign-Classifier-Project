{
 "cells": [
  {
   "cell_type": "code",
   "execution_count": 2,
   "metadata": {
    "collapsed": true
   },
   "outputs": [],
   "source": [
    "#Inception Module\n",
    "\n",
    "\n",
    "# Load pickled data\n",
    "import pickle\n",
    "import numpy as np\n",
    "import tensorflow as tf \n",
    "\n",
    "# TODO: Fill this in based on where you saved the training and testing data\n",
    "\n",
    "training_file = \"train_gray_contrast.p\"\n",
    "testing_file = \"test_final_gray.p\"\n",
    "validation_file = \"validation_gray_contrast.p\"\n",
    "\n",
    "with open(training_file, mode='rb') as f:\n",
    "    train = pickle.load(f)\n",
    "with open(testing_file, mode='rb') as f:\n",
    "    test = pickle.load(f)\n",
    "with open(validation_file, mode='rb') as f:\n",
    "    validation = pickle.load(f)\n",
    "    \n",
    "X_train_old, y_train = train['features'], train['labels']\n",
    "X_test, y_test = test['features'], test['labels']\n",
    "X_validation_old, y_validation = validation['features'], validation['labels']\n"
   ]
  },
  {
   "cell_type": "code",
   "execution_count": 3,
   "metadata": {
    "collapsed": true
   },
   "outputs": [],
   "source": [
    "from sklearn.preprocessing import normalize\n",
    "\n",
    "X_new = X_train_old#.astype(float)\n",
    "X_new = X_new.astype(float)\n",
    "X_new-=128.0\n",
    "X_train = X_new /255.0\n",
    "\n",
    "X_val = X_validation_old#.astype(float)\n",
    "X_val = X_val.astype(float)\n",
    "X_val-=128.0\n",
    "X_validation = X_val /255.0\n",
    "\n",
    "X_test = X_test#.astype(float)\n",
    "X_test = X_test.astype(float)\n",
    "X_test-=128.0\n",
    "X_test = X_test /255.0"
   ]
  },
  {
   "cell_type": "code",
   "execution_count": 9,
   "metadata": {
    "collapsed": true
   },
   "outputs": [],
   "source": [
    "\n",
    "from tensorflow.contrib.layers import flatten\n",
    "import tensorflow as tf\n",
    "\n",
    "\n",
    "def conv2d(x,weight,bias,strides=1,padding='SAME'):\n",
    "    layer = tf.nn.conv2d(x,weight,[1,strides,strides,1],padding=padding)\n",
    "    layer = tf.nn.bias_add(layer,bias)\n",
    "    layer = tf.nn.relu(layer)\n",
    "    return layer\n",
    "\n",
    "def maxpool(x,k=2,padding='SAME',stride=2):\n",
    "    kernel_size = [1,k,k,1]\n",
    "    return tf.nn.max_pool(x,ksize=kernel_size,strides=[1,stride,stride,1],padding=padding)\n",
    "    "
   ]
  },
  {
   "cell_type": "code",
   "execution_count": 28,
   "metadata": {
    "collapsed": true
   },
   "outputs": [],
   "source": [
    "def naive_inception(x):\n",
    "    \n",
    "    mu = 0\n",
    "    sigma = 0.1\n",
    "    layer_depth = {\n",
    "    'layer_1_1x1': 3,\n",
    "    'layer_1_3x3': 3,   \n",
    "    'layer_1_5x5': 3\n",
    "    }\n",
    "    \n",
    "    #1x1 conv\n",
    "    weights_1x1 = tf.Variable(tf.random_normal([1, 1,1 , layer_depth['layer_1_1x1']], mean=0.0, stddev=1.0, dtype=tf.float32) )\n",
    "    bias_1x1 = tf.Variable(tf.zeros(layer_depth['layer_1_1x1']))\n",
    "    \n",
    "    conv_1x1 = conv2d(x,weights_1x1,bias_1x1)\n",
    "    print(conv_1x1.get_shape())\n",
    "    \n",
    "    #3x3 conv\n",
    "    weights_3x3 = tf.Variable(tf.random_normal([3, 3,1 , layer_depth['layer_1_3x3']], mean=0.0, stddev=1.0, dtype=tf.float32) )\n",
    "    bias_3x3 = tf.Variable(tf.zeros(layer_depth['layer_1_3x3']))\n",
    "    \n",
    "    conv_3x3 = conv2d(x,weights_3x3,bias_3x3)\n",
    "    print(conv_3x3.get_shape())\n",
    "\n",
    "    #5x5 conv\n",
    "    weights_5x5 = tf.Variable(tf.random_normal([5, 5,1 , layer_depth['layer_1_5x5']], mean=0.0, stddev=1.0, dtype=tf.float32) )\n",
    "    bias_5x5 = tf.Variable(tf.zeros(layer_depth['layer_1_5x5']))\n",
    "    \n",
    "    conv_5x5 = conv2d(x,weights_5x5,bias_5x5)\n",
    "    print(conv_5x5.get_shape())\n",
    "\n",
    "    #3x3 maxpooling\n",
    "    \n",
    "    maxpool_3x3 = maxpool(x,k=3,stride=1)\n",
    "    print(maxpool_3x3.get_shape())\n",
    "\n",
    "    #stack \n",
    "    incepction_tensor = tf.concat(3,(conv_1x1,conv_3x3,conv_5x5,maxpool_3x3))\n",
    "    \n",
    "    return incepction_tensor\n",
    "\n",
    "def fully_connected(in_tensor,layers,keep_prob):\n",
    "    mu = 0\n",
    "    sigma = 0.1\n",
    "    in_dim = np.product(in_tensor.get_shape().as_list()[1:])\n",
    "    tensor_flatten = flatten(in_tensor)\n",
    "    \n",
    "    for each in layers:\n",
    "        weights = tf.Variable(tf.random_normal([in_dim, each],mu,sigma,dtype=tf.float32))\n",
    "        bias =  tf.Variable(tf.zeros(each))\n",
    "\n",
    "        fc1_drop = tf.nn.dropout(tensor_flatten, keep_prob)    \n",
    "        fc2 = tf.add(\n",
    "        tf.matmul(fc1_drop, weights),\n",
    "        bias)\n",
    "        # TODO: Activation.\n",
    "        tensor_flatten = tf.nn.tanh(fc2)\n",
    "        in_dim = each\n",
    "    \n",
    "    return tensor_flatten\n",
    "         \n",
    "        \n",
    "    \n"
   ]
  },
  {
   "cell_type": "code",
   "execution_count": 29,
   "metadata": {
    "collapsed": false
   },
   "outputs": [
    {
     "name": "stdout",
     "output_type": "stream",
     "text": [
      "(?, 32, 32, 3)\n",
      "(?, 32, 32, 3)\n",
      "(?, 32, 32, 3)\n",
      "(?, 32, 32, 1)\n"
     ]
    }
   ],
   "source": [
    "INPUT_DEPTH = 1\n",
    "tf.reset_default_graph()\n",
    "x = tf.placeholder(tf.float32, (None, 32, 32, INPUT_DEPTH))\n",
    "y = tf.placeholder(tf.int32, (None))\n",
    "keep_prob = tf.placeholder(tf.float32)\n",
    "one_hot_y = tf.one_hot(y, 43)\n",
    "incep_tensor = naive_inception(x)\n",
    "logits = fully_connected(incep_tensor,[120,43],keep_prob)"
   ]
  },
  {
   "cell_type": "code",
   "execution_count": 32,
   "metadata": {
    "collapsed": false
   },
   "outputs": [],
   "source": [
    "rate = 0.001\n",
    "cross_entropy = tf.nn.softmax_cross_entropy_with_logits(logits, one_hot_y)\n",
    "loss_operation = tf.reduce_mean(cross_entropy)\n",
    "optimizer = tf.train.AdamOptimizer(learning_rate = rate)\n",
    "# Gradient clipping\n",
    "gvs = optimizer.compute_gradients(loss_operation)\n",
    "capped_gvs = [(tf.clip_by_value(grad, -1., 1.), var) for grad, var in gvs]\n",
    "optimizer.apply_gradients(capped_gvs)\n",
    "\n",
    "training_operation = optimizer.minimize(loss_operation)"
   ]
  },
  {
   "cell_type": "code",
   "execution_count": 33,
   "metadata": {
    "collapsed": true
   },
   "outputs": [],
   "source": [
    "correct_prediction = tf.equal(tf.argmax(logits, 1), tf.argmax(one_hot_y, 1))\n",
    "accuracy_operation = tf.reduce_mean(tf.cast(correct_prediction, tf.float32))\n",
    "saver = tf.train.Saver()\n",
    "\n",
    "def evaluate(X_data, y_data):\n",
    "    num_examples = len(X_data)\n",
    "    total_accuracy = 0\n",
    "    sess = tf.get_default_session()\n",
    "    for offset in range(0, num_examples, BATCH_SIZE):\n",
    "        batch_x, batch_y = X_data[offset:offset+BATCH_SIZE], y_data[offset:offset+BATCH_SIZE]\n",
    "        accuracy = sess.run(accuracy_operation, feed_dict={x: batch_x, y: batch_y,keep_prob:1.0})\n",
    "        total_accuracy += (accuracy * len(batch_x))\n",
    "    return total_accuracy / num_examples"
   ]
  },
  {
   "cell_type": "code",
   "execution_count": 35,
   "metadata": {
    "collapsed": true
   },
   "outputs": [],
   "source": [
    "EPOCHS = 100\n",
    "BATCH_SIZE = 128"
   ]
  },
  {
   "cell_type": "code",
   "execution_count": null,
   "metadata": {
    "collapsed": false
   },
   "outputs": [
    {
     "name": "stdout",
     "output_type": "stream",
     "text": [
      "Training...\n",
      "\n"
     ]
    }
   ],
   "source": [
    "from sklearn.utils import shuffle\n",
    "\n",
    "model_file = \"inception_naive_gray\"\n",
    "with tf.Session() as sess:\n",
    "    sess.run(tf.initialize_all_variables())\n",
    "    num_examples =len(X_train)#392090\n",
    "    from pathlib import Path\n",
    "    \n",
    "\n",
    "    my_file = Path(model_file)\n",
    "    if my_file.is_file():\n",
    "        saver.restore(sess,model_file)\n",
    "        print(\"Model restored...\")\n",
    "    print(\"Training...\")\n",
    "    print()\n",
    "    for i in range(EPOCHS):\n",
    "        X_train, y_train = shuffle(X_train, y_train)\n",
    "        for offset in range(0, num_examples, BATCH_SIZE):\n",
    "            end = offset + BATCH_SIZE\n",
    "            batch_x, batch_y = X_train[offset:end], y_train[offset:end]\n",
    "            sess.run(training_operation, feed_dict={x: batch_x, y: batch_y,keep_prob:0.7})\n",
    "            \n",
    "        validation_accuracy = evaluate(X_validation, y_validation)\n",
    "        training_accuracy = evaluate(X_train, y_train)\n",
    "        mean_cross_entropy = sess.run(loss_operation, feed_dict={x: X_train, y: y_train,keep_prob:1.0})\n",
    "        print(\"EPOCH {} ...\".format(i+1))\n",
    "        print(\"Training Accuracy = {:.3f}\".format(training_accuracy))\n",
    "        print(\"Cross entropy = {:.4f}\".format(mean_cross_entropy))\n",
    "        print(\"Validation Accuracy = {:.3f}\".format(validation_accuracy))\n",
    "        \n",
    "    saver.save(sess, model_file)\n",
    "    print(\"Model saved\")"
   ]
  },
  {
   "cell_type": "code",
   "execution_count": null,
   "metadata": {
    "collapsed": true
   },
   "outputs": [],
   "source": []
  }
 ],
 "metadata": {
  "kernelspec": {
   "display_name": "Python [conda env:CarND-TensorFlow-Lab]",
   "language": "python",
   "name": "conda-env-CarND-TensorFlow-Lab-py"
  },
  "language_info": {
   "codemirror_mode": {
    "name": "ipython",
    "version": 3
   },
   "file_extension": ".py",
   "mimetype": "text/x-python",
   "name": "python",
   "nbconvert_exporter": "python",
   "pygments_lexer": "ipython3",
   "version": "3.5.2"
  }
 },
 "nbformat": 4,
 "nbformat_minor": 1
}
